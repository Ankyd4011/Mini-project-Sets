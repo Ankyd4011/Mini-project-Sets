{
  "nbformat": 4,
  "nbformat_minor": 0,
  "metadata": {
    "colab": {
      "provenance": [],
      "authorship_tag": "ABX9TyMOOo/ZiazvmEFjraETsYgf",
      "include_colab_link": true
    },
    "kernelspec": {
      "name": "python3",
      "display_name": "Python 3"
    },
    "language_info": {
      "name": "python"
    }
  },
  "cells": [
    {
      "cell_type": "markdown",
      "metadata": {
        "id": "view-in-github",
        "colab_type": "text"
      },
      "source": [
        "<a href=\"https://colab.research.google.com/github/Ankyd4011/Mini-project-Sets/blob/main/mini_project1.ipynb\" target=\"_parent\"><img src=\"https://colab.research.google.com/assets/colab-badge.svg\" alt=\"Open In Colab\"/></a>"
      ]
    },
    {
      "cell_type": "code",
      "execution_count": null,
      "metadata": {
        "id": "OK4hQmANsAdY"
      },
      "outputs": [],
      "source": [
        "import random as r\n",
        "\n"
      ]
    },
    {
      "cell_type": "code",
      "source": [
        "Set = {-12,-3,-6,7,2,-2,6,3,9,-7,-5,-8,1,11,-9,-4}"
      ],
      "metadata": {
        "id": "-Xnq6puGtXe5"
      },
      "execution_count": null,
      "outputs": []
    },
    {
      "cell_type": "code",
      "source": [
        "from random import sample\n",
        "# sub_set = sample(Set,5)\n",
        "# print(sub_set)"
      ],
      "metadata": {
        "id": "h2AUpq8HtrQV"
      },
      "execution_count": null,
      "outputs": []
    },
    {
      "cell_type": "code",
      "source": [
        "x=[]\n",
        "sub_set = sample(Set,5)\n",
        "while set(sub_set) not in x :\n",
        "  if sum(sub_set)==0:\n",
        "    x.append(set(sub_set))\n",
        "\n",
        "\n",
        "  sub_set = sample(Set,5)"
      ],
      "metadata": {
        "id": "TAGwwFSM8N_W",
        "colab": {
          "base_uri": "https://localhost:8080/"
        },
        "outputId": "9d25533d-be87-47bb-fb60-7c9bbbe25b9e"
      },
      "execution_count": null,
      "outputs": [
        {
          "output_type": "stream",
          "name": "stderr",
          "text": [
            "<ipython-input-37-f750ae57f1e9>:2: DeprecationWarning: Sampling from a set deprecated\n",
            "since Python 3.9 and will be removed in a subsequent version.\n",
            "  sub_set = sample(Set,5)\n",
            "<ipython-input-37-f750ae57f1e9>:8: DeprecationWarning: Sampling from a set deprecated\n",
            "since Python 3.9 and will be removed in a subsequent version.\n",
            "  sub_set = sample(Set,5)\n"
          ]
        }
      ]
    },
    {
      "cell_type": "code",
      "source": [
        "print(x)"
      ],
      "metadata": {
        "id": "12NLdMEW-HhU",
        "colab": {
          "base_uri": "https://localhost:8080/"
        },
        "outputId": "875cac58-8925-41bd-a6e7-5bd878c91f7c"
      },
      "execution_count": null,
      "outputs": [
        {
          "output_type": "stream",
          "name": "stdout",
          "text": [
            "[{3, 7, 9, -12, -7}, {2, 3, 11, -9, -7}, {1, 11, -5, -4, -3}, {7, 9, -7, -5, -4}, {6, 11, -9, -6, -2}, {2, 11, -6, -4, -3}, {3, 6, 7, -9, -7}, {2, 3, 6, -9, -2}, {3, 9, -6, -4, -2}, {1, 3, 9, -9, -4}, {1, 2, 11, -9, -5}, {6, 9, -7, -6, -2}, {1, 9, -5, -3, -2}]\n"
          ]
        }
      ]
    },
    {
      "cell_type": "markdown",
      "source": [
        "part 2"
      ],
      "metadata": {
        "id": "h6Zb10kPg2nB"
      }
    },
    {
      "cell_type": "code",
      "source": [
        "import random\n",
        "x=[]\n",
        "sub_set = sample(Set,random.randrange(3,5))\n",
        "while set(sub_set) not in x :\n",
        "  if sum(sub_set)==0:\n",
        "    x.append(set(sub_set))"
      ],
      "metadata": {
        "id": "xsp39DPZGldx",
        "colab": {
          "base_uri": "https://localhost:8080/",
          "height": 289
        },
        "outputId": "30e02894-7390-43d0-9013-096533706f8e"
      },
      "execution_count": null,
      "outputs": [
        {
          "output_type": "stream",
          "name": "stderr",
          "text": [
            "<ipython-input-7-c8e97e643170>:3: DeprecationWarning: Sampling from a set deprecated\n",
            "since Python 3.9 and will be removed in a subsequent version.\n",
            "  sub_set = sample(Set,random.randrange(3,5))\n"
          ]
        },
        {
          "output_type": "error",
          "ename": "KeyboardInterrupt",
          "evalue": "ignored",
          "traceback": [
            "\u001b[0;31m---------------------------------------------------------------------------\u001b[0m",
            "\u001b[0;31mKeyboardInterrupt\u001b[0m                         Traceback (most recent call last)",
            "\u001b[0;32m<ipython-input-7-c8e97e643170>\u001b[0m in \u001b[0;36m<cell line: 4>\u001b[0;34m()\u001b[0m\n\u001b[1;32m      3\u001b[0m \u001b[0msub_set\u001b[0m \u001b[0;34m=\u001b[0m \u001b[0msample\u001b[0m\u001b[0;34m(\u001b[0m\u001b[0mSet\u001b[0m\u001b[0;34m,\u001b[0m\u001b[0mrandom\u001b[0m\u001b[0;34m.\u001b[0m\u001b[0mrandrange\u001b[0m\u001b[0;34m(\u001b[0m\u001b[0;36m3\u001b[0m\u001b[0;34m,\u001b[0m\u001b[0;36m5\u001b[0m\u001b[0;34m)\u001b[0m\u001b[0;34m)\u001b[0m\u001b[0;34m\u001b[0m\u001b[0;34m\u001b[0m\u001b[0m\n\u001b[1;32m      4\u001b[0m \u001b[0;32mwhile\u001b[0m \u001b[0mset\u001b[0m\u001b[0;34m(\u001b[0m\u001b[0msub_set\u001b[0m\u001b[0;34m)\u001b[0m \u001b[0;32mnot\u001b[0m \u001b[0;32min\u001b[0m \u001b[0mx\u001b[0m \u001b[0;34m:\u001b[0m\u001b[0;34m\u001b[0m\u001b[0;34m\u001b[0m\u001b[0m\n\u001b[0;32m----> 5\u001b[0;31m   \u001b[0;32mif\u001b[0m \u001b[0msum\u001b[0m\u001b[0;34m(\u001b[0m\u001b[0msub_set\u001b[0m\u001b[0;34m)\u001b[0m\u001b[0;34m==\u001b[0m\u001b[0;36m0\u001b[0m\u001b[0;34m:\u001b[0m\u001b[0;34m\u001b[0m\u001b[0;34m\u001b[0m\u001b[0m\n\u001b[0m\u001b[1;32m      6\u001b[0m     \u001b[0mx\u001b[0m\u001b[0;34m.\u001b[0m\u001b[0mappend\u001b[0m\u001b[0;34m(\u001b[0m\u001b[0mset\u001b[0m\u001b[0;34m(\u001b[0m\u001b[0msub_set\u001b[0m\u001b[0;34m)\u001b[0m\u001b[0;34m)\u001b[0m\u001b[0;34m\u001b[0m\u001b[0;34m\u001b[0m\u001b[0m\n",
            "\u001b[0;31mKeyboardInterrupt\u001b[0m: "
          ]
        }
      ]
    },
    {
      "cell_type": "code",
      "source": [
        "Set = {-12,-3,-6,7,2,-2,6,3,9,-7,-5,-8,1,11,-9,-4}"
      ],
      "metadata": {
        "id": "KBvkUKHRhksI"
      },
      "execution_count": null,
      "outputs": []
    },
    {
      "cell_type": "code",
      "source": [
        "from random import sample"
      ],
      "metadata": {
        "id": "TrSFrS5uiffy"
      },
      "execution_count": null,
      "outputs": []
    },
    {
      "cell_type": "code",
      "source": [
        "import random\n",
        "x=[]\n",
        "n=random.randrange(3,6)\n",
        "sub_set = sample(Set,n)\n",
        "while set(sub_set) not in x :\n",
        "  n=random.randrange(3,6)\n",
        "  if sum(sub_set)==0:\n",
        "    x.append(set(sub_set))\n",
        "\n",
        "  sub_set = sample(Set,n)\n",
        "\n"
      ],
      "metadata": {
        "colab": {
          "base_uri": "https://localhost:8080/"
        },
        "id": "ic2Ft0LnijYI",
        "outputId": "0a9c8c1e-9aac-4e77-a6f1-8797dc724187"
      },
      "execution_count": null,
      "outputs": [
        {
          "output_type": "stream",
          "name": "stderr",
          "text": [
            "<ipython-input-30-6487dc194bbe>:4: DeprecationWarning: Sampling from a set deprecated\n",
            "since Python 3.9 and will be removed in a subsequent version.\n",
            "  sub_set = sample(Set,n)\n",
            "<ipython-input-30-6487dc194bbe>:10: DeprecationWarning: Sampling from a set deprecated\n",
            "since Python 3.9 and will be removed in a subsequent version.\n",
            "  sub_set = sample(Set,n)\n"
          ]
        }
      ]
    },
    {
      "cell_type": "code",
      "source": [
        "print(x)"
      ],
      "metadata": {
        "colab": {
          "base_uri": "https://localhost:8080/"
        },
        "id": "6kKb7BL8jNYU",
        "outputId": "4cd8b2b7-ac0f-4029-9a8d-8ac26332cd72"
      },
      "execution_count": null,
      "outputs": [
        {
          "output_type": "stream",
          "name": "stdout",
          "text": [
            "[{2, 3, 11, -9, -7}, {3, -5, -4, 6}, {9, -5, -4}, {9, 7, -7, -9}, {2, 6, 9, -9, -8}]\n"
          ]
        }
      ]
    },
    {
      "cell_type": "code",
      "source": [],
      "metadata": {
        "id": "GiHQLzFSjO4P"
      },
      "execution_count": null,
      "outputs": []
    }
  ]
}